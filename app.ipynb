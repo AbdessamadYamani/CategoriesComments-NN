{
  "cells": [
    {
      "cell_type": "code",
      "execution_count": 7,
      "metadata": {
        "colab": {
          "base_uri": "https://localhost:8080/"
        },
        "id": "e23LLiMcae-X",
        "outputId": "350ce23c-9534-4916-cbdf-9875bbba1d88"
      },
      "outputs": [
        {
          "name": "stdout",
          "output_type": "stream",
          "text": [
            "2/2 [==============================] - 0s 9ms/step - loss: 0.5222 - accuracy: 0.8500\n",
            "Accuracy: 0.8500000238418579\n",
            "Enter your comment: can you do more videos ?\n"
          ]
        },
        {
          "output_type": "stream",
          "name": "stderr",
          "text": [
            "WARNING:tensorflow:6 out of the last 6 calls to <function Model.make_predict_function.<locals>.predict_function at 0x7b1cc55732e0> triggered tf.function retracing. Tracing is expensive and the excessive number of tracings could be due to (1) creating @tf.function repeatedly in a loop, (2) passing tensors with different shapes, (3) passing Python objects instead of tensors. For (1), please define your @tf.function outside of the loop. For (2), @tf.function has reduce_retracing=True option that can avoid unnecessary retracing. For (3), please refer to https://www.tensorflow.org/guide/function#controlling_retracing and https://www.tensorflow.org/api_docs/python/tf/function for  more details.\n"
          ]
        },
        {
          "output_type": "stream",
          "name": "stdout",
          "text": [
            "1/1 [==============================] - 0s 71ms/step\n",
            "Predicted category: Appreciation\n"
          ]
        }
      ],
      "source": [
        "import pandas as pd\n",
        "import numpy as np\n",
        "import string\n",
        "import tensorflow as tf\n",
        "from sklearn.preprocessing import LabelEncoder\n",
        "from sklearn.model_selection import train_test_split\n",
        "\n",
        "# Load data\n",
        "data = pd.read_csv('CommentsSheet.csv', header=None)\n",
        "comments = data[0]\n",
        "categories = data[1]\n",
        "\n",
        "# Convert categories to numerical values\n",
        "encoder = LabelEncoder()\n",
        "categories = encoder.fit_transform(categories)\n",
        "\n",
        "# Split data into training and testing sets\n",
        "X_train, X_test, y_train, y_test = train_test_split(comments, categories, test_size=0.2)\n",
        "\n",
        "# Tokenize comments\n",
        "tokenizer = tf.keras.preprocessing.text.Tokenizer(num_words=10000)\n",
        "tokenizer.fit_on_texts(X_train)\n",
        "X_train = tokenizer.texts_to_sequences(X_train)\n",
        "X_test = tokenizer.texts_to_sequences(X_test)\n",
        "\n",
        "# Pad sequences\n",
        "maxlen = 100\n",
        "X_train = tf.keras.preprocessing.sequence.pad_sequences(X_train, padding='post', maxlen=maxlen)\n",
        "X_test = tf.keras.preprocessing.sequence.pad_sequences(X_test, padding='post', maxlen=maxlen)\n",
        "\n",
        "# Create model\n",
        "model = tf.keras.Sequential([\n",
        "    tf.keras.layers.Embedding(input_dim=10000, output_dim=64, input_length=maxlen),\n",
        "    tf.keras.layers.Flatten(),\n",
        "    tf.keras.layers.Dense(64, activation='relu'),\n",
        "    tf.keras.layers.Dense(64, activation='relu'),\n",
        "    tf.keras.layers.Dense(len(encoder.classes_), activation='softmax')\n",
        "])\n",
        "\n",
        "# Compile model\n",
        "model.compile(loss='sparse_categorical_crossentropy', optimizer='adam', metrics=['accuracy'])\n",
        "\n",
        "# Check if there's a saved model, if not, train and save the model\n",
        "try:\n",
        "    model = tf.keras.models.load_model('saved_model')\n",
        "except:\n",
        "    # Train model\n",
        "    model.fit(X_train, y_train, epochs=10, batch_size=32, validation_split=0.2)\n",
        "    # Save model\n",
        "    model.save('saved_model')\n",
        "\n",
        "# Evaluate model\n",
        "loss, accuracy = model.evaluate(X_test, y_test)\n",
        "print('Accuracy:', accuracy)\n",
        "\n",
        "# Classify new comment\n",
        "new_comment = input(\"Enter your comment: \")\n",
        "new_comment = new_comment.lower().translate(str.maketrans(\"\", \"\", string.punctuation))\n",
        "new_comment = tokenizer.texts_to_sequences([new_comment])\n",
        "new_comment = tf.keras.preprocessing.sequence.pad_sequences(new_comment, padding='post', maxlen=maxlen)\n",
        "predicted_category = encoder.inverse_transform([np.argmax(model.predict(new_comment))])[0]\n",
        "print('Predicted category:', predicted_category)\n"
      ]
    }
  ],
  "metadata": {
    "colab": {
      "provenance": []
    },
    "kernelspec": {
      "display_name": "Python 3",
      "name": "python3"
    },
    "language_info": {
      "name": "python"
    }
  },
  "nbformat": 4,
  "nbformat_minor": 0
}